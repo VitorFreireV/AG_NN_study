{
 "cells": [
  {
   "cell_type": "code",
   "execution_count": 1,
   "metadata": {},
   "outputs": [],
   "source": [
    "from keras.models import Sequential\n",
    "from keras.layers import Dense\n",
    "import numpy as np"
   ]
  },
  {
   "cell_type": "code",
   "execution_count": 2,
   "metadata": {},
   "outputs": [],
   "source": [
    "model = Sequential()\n",
    "model.add(Dense(2, input_dim=1, activation='relu'))\n",
    "model.add(Dense(3, activation = 'relu'))\n",
    "model.add(Dense(4, activation='sigmoid'))"
   ]
  },
  {
   "cell_type": "code",
   "execution_count": 3,
   "metadata": {},
   "outputs": [],
   "source": [
    "x = model.get_weights()"
   ]
  },
  {
   "cell_type": "code",
   "execution_count": 4,
   "metadata": {},
   "outputs": [
    {
     "data": {
      "text/plain": [
       "[array([[-1.2365953, -0.8039117]], dtype=float32),\n",
       " array([0., 0.], dtype=float32),\n",
       " array([[-0.83831966, -0.00622749,  0.57899773],\n",
       "        [-0.8161496 , -0.34935403,  0.66951346]], dtype=float32),\n",
       " array([0., 0., 0.], dtype=float32),\n",
       " array([[ 0.67217577,  0.77504957,  0.21675777, -0.65700257],\n",
       "        [-0.4560413 ,  0.92133   , -0.11218321, -0.19054157],\n",
       "        [ 0.45355034,  0.6654762 , -0.80063903,  0.07781029]],\n",
       "       dtype=float32),\n",
       " array([0., 0., 0., 0.], dtype=float32)]"
      ]
     },
     "execution_count": 4,
     "metadata": {},
     "output_type": "execute_result"
    }
   ],
   "source": [
    "x"
   ]
  },
  {
   "cell_type": "code",
   "execution_count": 5,
   "metadata": {},
   "outputs": [
    {
     "ename": "NameError",
     "evalue": "name 'lista' is not defined",
     "output_type": "error",
     "traceback": [
      "\u001b[0;31m---------------------------------------------------------------------------\u001b[0m",
      "\u001b[0;31mNameError\u001b[0m                                 Traceback (most recent call last)",
      "\u001b[0;32m<ipython-input-5-a3f2c1fa49a3>\u001b[0m in \u001b[0;36m<module>\u001b[0;34m\u001b[0m\n\u001b[0;32m----> 1\u001b[0;31m \u001b[0mlista\u001b[0m\u001b[0;34m[\u001b[0m\u001b[0;36m0\u001b[0m\u001b[0;34m]\u001b[0m\u001b[0;34m[\u001b[0m\u001b[0;36m0\u001b[0m\u001b[0;34m]\u001b[0m\u001b[0;34m.\u001b[0m\u001b[0mreshape\u001b[0m\u001b[0;34m(\u001b[0m\u001b[0;36m2\u001b[0m\u001b[0;34m,\u001b[0m\u001b[0;36m4\u001b[0m\u001b[0;34m)\u001b[0m\u001b[0;34m\u001b[0m\u001b[0;34m\u001b[0m\u001b[0m\n\u001b[0m",
      "\u001b[0;31mNameError\u001b[0m: name 'lista' is not defined"
     ]
    }
   ],
   "source": [
    "lista[0][0].reshape(2,4)"
   ]
  },
  {
   "cell_type": "code",
   "execution_count": null,
   "metadata": {},
   "outputs": [],
   "source": [
    "def calc_di(param_nn = [1,2,3,4]):\n",
    "    dim = 0\n",
    "    for i in range(1, len(param_nn)):\n",
    "        dim += param_nn[i-1]*param_nn[i] + param_nn[i]\n",
    "    return dim"
   ]
  },
  {
   "cell_type": "code",
   "execution_count": null,
   "metadata": {},
   "outputs": [],
   "source": [
    "dim_s = calc_di(param_nn = [1,2,3,4])\n",
    "dim_s"
   ]
  },
  {
   "cell_type": "code",
   "execution_count": null,
   "metadata": {},
   "outputs": [],
   "source": [
    "s = np.zeros((dim_s), dtype = 'float64')"
   ]
  },
  {
   "cell_type": "code",
   "execution_count": null,
   "metadata": {},
   "outputs": [],
   "source": [
    "def vetor_to_weigths(vetor, param_nn = [1, 2, 3, 4]):\n",
    "    weigths_list = []\n",
    "    pivo = 0\n",
    "    for i in range(1, len(param_nn)):\n",
    "        weigths = vetor[pivo:pivo+param_nn[i - 1]*param_nn[i]]\n",
    "        weigths = weigths.reshape(param_nn[i-1], param_nn[i])\n",
    "        weigths_list.append(weigths)\n",
    "        pivo = param_nn[i - 1]*param_nn[i]\n",
    "        bias = vetor[pivo:pivo+param_nn[i]]\n",
    "        pivo += param_nn[i]\n",
    "        weigths_list.append(bias)\n",
    "    return weigths_list"
   ]
  },
  {
   "cell_type": "code",
   "execution_count": null,
   "metadata": {},
   "outputs": [],
   "source": [
    "weigths = vetor_to_weigths(s)"
   ]
  },
  {
   "cell_type": "code",
   "execution_count": null,
   "metadata": {},
   "outputs": [],
   "source": [
    "weigths"
   ]
  },
  {
   "cell_type": "code",
   "execution_count": null,
   "metadata": {},
   "outputs": [],
   "source": [
    "model.set_weights(weigths)"
   ]
  },
  {
   "cell_type": "code",
   "execution_count": null,
   "metadata": {},
   "outputs": [],
   "source": [
    "model.get_weights()"
   ]
  },
  {
   "cell_type": "code",
   "execution_count": null,
   "metadata": {},
   "outputs": [],
   "source": [
    "import gym\n",
    " \n",
    "env = gym.make(\"FrozenLake-v0\")\n",
    "print(env.action_space)\n",
    "print(env.observation_space)\n"
   ]
  },
  {
   "cell_type": "code",
   "execution_count": null,
   "metadata": {},
   "outputs": [],
   "source": [
    "type(env.action_space.value)"
   ]
  },
  {
   "cell_type": "code",
   "execution_count": null,
   "metadata": {},
   "outputs": [],
   "source": [
    "def calc_dim(param_nn = [1,2,3,4]):\n",
    "    dim = 0\n",
    "    for i in range(1, len(param_nn)):\n",
    "        dim += param_nn[i-1]*param_nn[i] + param_nn[i]\n",
    "    return dim\n",
    "\n",
    "def vetor_to_weigths(vetor, param_nn = [1, 2, 3, 4]):\n",
    "    weigths_list = []\n",
    "    pivo = 0\n",
    "    for i in range(1, len(param_nn)):\n",
    "        weigths = vetor[pivo:pivo+param_nn[i - 1]*param_nn[i]]\n",
    "        weigths = weigths.reshape(param_nn[i-1], param_nn[i])\n",
    "        weigths_list.append(weigths)\n",
    "        pivo = param_nn[i - 1]*param_nn[i]\n",
    "        bias = vetor[pivo:pivo+param_nn[i]]\n",
    "        pivo += param_nn[i]\n",
    "        weigths_list.append(bias)\n",
    "    return weigths_list\n",
    "\n",
    "def fo(solution, neuralnet, env, params_nn, onehot_encode):\n",
    "    w = vetor_to_weigths(solution, params_nn)\n",
    "    neuralnet.set_weights(w)\n",
    "    new_state = onehot_encode.transform([[0]])\n",
    "    scores_all = 0.0\n",
    "    # avaliando rede neural no ambiente\n",
    "    env.reset()\n",
    "    for i in range(30):\n",
    "        y = neuralnet.predict([new_state])\n",
    "        action = np.argmax(y)\n",
    "        print(\"actions: \", action)\n",
    "        new_state2, reward, done, info = env.step(action)\n",
    "        new_state = onehot_encode.transform([[new_state2]])\n",
    "        scores_all += reward\n",
    "        \n",
    "        if done:\n",
    "            return scores_all\n",
    "    if scores_all > 0 :\n",
    "        return scores_all\n",
    "    else:\n",
    "        # calc posição para dar F0 com base na distancia\n",
    "        row = int(new_state2/4)\n",
    "        col = int(new_state2%4)\n",
    "        result = np.sqrt((4-row)**2 + (4-col)**2)\n",
    "        result = 1/result\n",
    "        return result\n"
   ]
  },
  {
   "cell_type": "code",
   "execution_count": null,
   "metadata": {},
   "outputs": [],
   "source": [
    "from algotimos_otimizacao.AG import AG\n",
    "from sklearn.preprocessing import OneHotEncoder\n",
    "import pandas as pd\n",
    "\n",
    "# rede com 16 entradas, 16 neuronios, 16, 4\n",
    "def build_model(params_nn):\n",
    "    model = Sequential()\n",
    "    model.add(Dense(params_nn[1], input_dim=params_nn[0], activation='relu'))\n",
    "    model.add(Dense(params_nn[2], activation = 'relu'))\n",
    "    model.add(Dense(params_nn[3], activation='softmax'))\n",
    "    return model\n",
    "\n",
    "\n",
    "params_nn = [16, 8, 8, 4]\n",
    "model_neuralnet = build_model(params_nn)\n",
    "\n",
    "dim_pop = calc_dim(params_nn)\n",
    "\n",
    "onehot_encode = OneHotEncoder()\n",
    "onehot_encode = onehot_encode.fit(np.array(list(range(16))).reshape(-1,1))\n",
    " \n",
    "env = gym.make(\"FrozenLake-v0\")\n",
    "\n",
    "ag = AG()\n",
    "\n",
    "\n",
    "\n",
    "best_fo, min_fo, mean_fo, mean_pop = ag.solve(dim_s = dim_pop, neuralnet = model_neuralnet, env = env, params_nn = params_nn, onehot_encode = onehot_encode)"
   ]
  },
  {
   "cell_type": "code",
   "execution_count": 29,
   "metadata": {},
   "outputs": [
    {
     "data": {
      "text/plain": [
       "0.0"
      ]
     },
     "execution_count": 29,
     "metadata": {},
     "output_type": "execute_result"
    }
   ],
   "source": [
    "best_fo"
   ]
  },
  {
   "cell_type": "code",
   "execution_count": null,
   "metadata": {},
   "outputs": [],
   "source": []
  },
  {
   "cell_type": "code",
   "execution_count": null,
   "metadata": {},
   "outputs": [],
   "source": []
  },
  {
   "cell_type": "code",
   "execution_count": null,
   "metadata": {},
   "outputs": [],
   "source": []
  }
 ],
 "metadata": {
  "kernelspec": {
   "display_name": "Python 3",
   "language": "python",
   "name": "python3"
  },
  "language_info": {
   "codemirror_mode": {
    "name": "ipython",
    "version": 3
   },
   "file_extension": ".py",
   "mimetype": "text/x-python",
   "name": "python",
   "nbconvert_exporter": "python",
   "pygments_lexer": "ipython3",
   "version": "3.8.5"
  }
 },
 "nbformat": 4,
 "nbformat_minor": 4
}
